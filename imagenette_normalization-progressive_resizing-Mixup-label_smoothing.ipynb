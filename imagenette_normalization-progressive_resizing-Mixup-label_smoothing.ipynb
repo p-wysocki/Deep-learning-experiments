{
 "cells": [
  {
   "cell_type": "markdown",
   "id": "8ff4acd1",
   "metadata": {},
   "source": [
    "## Download Imagenette, a subset of ImageNet"
   ]
  },
  {
   "cell_type": "code",
   "execution_count": 1,
   "id": "9ec859da",
   "metadata": {},
   "outputs": [],
   "source": [
    "from fastai.vision.all import *\n",
    "dataset = untar_data(URLs.IMAGENETTE)"
   ]
  },
  {
   "cell_type": "markdown",
   "id": "eb92ac03",
   "metadata": {},
   "source": [
    "## Initiate a fastai DataBlock and define data preprocessing/augmentation"
   ]
  },
  {
   "cell_type": "code",
   "execution_count": 2,
   "id": "ce6dcecf",
   "metadata": {},
   "outputs": [
    {
     "name": "stdout",
     "output_type": "stream",
     "text": [
      "Due to IPython and Windows limitation, python multiprocessing isn't available now.\n",
      "So `number_workers` is changed to 0 to avoid getting stuck\n"
     ]
    }
   ],
   "source": [
    "dblock = DataBlock(blocks=(ImageBlock(), CategoryBlock()),\n",
    "                        get_items=get_image_files,\n",
    "                        get_y=parent_label,\n",
    "                        item_tfms=Resize(460),\n",
    "                        batch_tfms=aug_transforms(size=244, min_scale=0.75))\n",
    "dls = dblock.dataloaders(dataset, bs=32)"
   ]
  },
  {
   "cell_type": "markdown",
   "id": "584b10e0",
   "metadata": {},
   "source": [
    "## Get a baseline model using dynamically changing learning rate"
   ]
  },
  {
   "cell_type": "code",
   "execution_count": 3,
   "id": "d485d14a",
   "metadata": {},
   "outputs": [
    {
     "data": {
      "text/html": [
       "\n",
       "<style>\n",
       "    /* Turns off some styling */\n",
       "    progress {\n",
       "        /* gets rid of default border in Firefox and Opera. */\n",
       "        border: none;\n",
       "        /* Needs to be in here for Safari polyfill so background images work as expected. */\n",
       "        background-size: auto;\n",
       "    }\n",
       "    .progress-bar-interrupted, .progress-bar-interrupted::-webkit-progress-bar {\n",
       "        background: #F44336;\n",
       "    }\n",
       "</style>\n"
      ],
      "text/plain": [
       "<IPython.core.display.HTML object>"
      ]
     },
     "metadata": {},
     "output_type": "display_data"
    },
    {
     "data": {
      "text/html": [
       "<table border=\"1\" class=\"dataframe\">\n",
       "  <thead>\n",
       "    <tr style=\"text-align: left;\">\n",
       "      <th>epoch</th>\n",
       "      <th>train_loss</th>\n",
       "      <th>valid_loss</th>\n",
       "      <th>accuracy</th>\n",
       "      <th>time</th>\n",
       "    </tr>\n",
       "  </thead>\n",
       "  <tbody>\n",
       "    <tr>\n",
       "      <td>0</td>\n",
       "      <td>1.606717</td>\n",
       "      <td>4.534217</td>\n",
       "      <td>0.264750</td>\n",
       "      <td>03:45</td>\n",
       "    </tr>\n",
       "    <tr>\n",
       "      <td>1</td>\n",
       "      <td>1.216525</td>\n",
       "      <td>1.448804</td>\n",
       "      <td>0.551158</td>\n",
       "      <td>03:17</td>\n",
       "    </tr>\n",
       "    <tr>\n",
       "      <td>2</td>\n",
       "      <td>0.976563</td>\n",
       "      <td>2.245200</td>\n",
       "      <td>0.530620</td>\n",
       "      <td>03:28</td>\n",
       "    </tr>\n",
       "    <tr>\n",
       "      <td>3</td>\n",
       "      <td>0.722283</td>\n",
       "      <td>0.657878</td>\n",
       "      <td>0.790142</td>\n",
       "      <td>03:19</td>\n",
       "    </tr>\n",
       "    <tr>\n",
       "      <td>4</td>\n",
       "      <td>0.605014</td>\n",
       "      <td>0.555290</td>\n",
       "      <td>0.828603</td>\n",
       "      <td>03:21</td>\n",
       "    </tr>\n",
       "  </tbody>\n",
       "</table>"
      ],
      "text/plain": [
       "<IPython.core.display.HTML object>"
      ]
     },
     "metadata": {},
     "output_type": "display_data"
    }
   ],
   "source": [
    "model = xresnet50()\n",
    "learn = Learner(dls, model, loss_func=CrossEntropyLossFlat(), metrics=accuracy)\n",
    "learn.fit_one_cycle(5, 3e-3)"
   ]
  },
  {
   "cell_type": "markdown",
   "id": "de0d4afe",
   "metadata": {},
   "source": [
    "## What's the mean and standard deviation of our data?"
   ]
  },
  {
   "cell_type": "code",
   "execution_count": 6,
   "id": "23dbcecc",
   "metadata": {},
   "outputs": [
    {
     "data": {
      "text/plain": [
       "TensorImage([0.4329, 0.4313, 0.4141], device='cuda:0')"
      ]
     },
     "execution_count": 6,
     "metadata": {},
     "output_type": "execute_result"
    }
   ],
   "source": [
    "x, y = dls.one_batch()\n",
    "x.mean(dim=[0, 2, 3]) # skip the alpha channel"
   ]
  },
  {
   "cell_type": "code",
   "execution_count": 7,
   "id": "d322545a",
   "metadata": {},
   "outputs": [
    {
     "data": {
      "text/plain": [
       "TensorImage([0.2771, 0.2656, 0.2884], device='cuda:0')"
      ]
     },
     "execution_count": 7,
     "metadata": {},
     "output_type": "execute_result"
    }
   ],
   "source": [
    "x.std(dim=[0, 2, 3]) # skip the alpha channel"
   ]
  },
  {
   "cell_type": "markdown",
   "id": "d7d584c9",
   "metadata": {},
   "source": [
    "## Let's standarize the data"
   ]
  },
  {
   "cell_type": "code",
   "execution_count": 10,
   "id": "6a4204ed",
   "metadata": {},
   "outputs": [
    {
     "name": "stdout",
     "output_type": "stream",
     "text": [
      "Due to IPython and Windows limitation, python multiprocessing isn't available now.\n",
      "So `number_workers` is changed to 0 to avoid getting stuck\n"
     ]
    }
   ],
   "source": [
    "dblock = DataBlock(blocks=(ImageBlock(), CategoryBlock()),\n",
    "                        get_items=get_image_files,\n",
    "                        get_y=parent_label,\n",
    "                        item_tfms=Resize(460),\n",
    "                        batch_tfms=[*aug_transforms(size=244, min_scale=0.75),\n",
    "                                   Normalize.from_stats(*imagenet_stats)])   # fastai has predefined stats for ImageNet\n",
    "dls = dblock.dataloaders(dataset, bs=32)"
   ]
  },
  {
   "cell_type": "code",
   "execution_count": 11,
   "id": "6d2cf6bd",
   "metadata": {},
   "outputs": [
    {
     "data": {
      "text/plain": [
       "TensorImage([-0.1948, -0.0827,  0.1260], device='cuda:0')"
      ]
     },
     "execution_count": 11,
     "metadata": {},
     "output_type": "execute_result"
    }
   ],
   "source": [
    "x, y = dls.one_batch()\n",
    "x.mean(dim=[0, 2, 3]) # skip the alpha channel"
   ]
  },
  {
   "cell_type": "code",
   "execution_count": 12,
   "id": "928f5448",
   "metadata": {},
   "outputs": [
    {
     "data": {
      "text/plain": [
       "TensorImage([1.2606, 1.2181, 1.3130], device='cuda:0')"
      ]
     },
     "execution_count": 12,
     "metadata": {},
     "output_type": "execute_result"
    }
   ],
   "source": [
    "x.std(dim=[0, 2, 3]) # skip the alpha channel"
   ]
  },
  {
   "cell_type": "markdown",
   "id": "a53c2d1a",
   "metadata": {},
   "source": [
    "## Does it improve our accuracy?"
   ]
  },
  {
   "cell_type": "code",
   "execution_count": 13,
   "id": "5f3b53fd",
   "metadata": {},
   "outputs": [
    {
     "data": {
      "text/html": [
       "\n",
       "<style>\n",
       "    /* Turns off some styling */\n",
       "    progress {\n",
       "        /* gets rid of default border in Firefox and Opera. */\n",
       "        border: none;\n",
       "        /* Needs to be in here for Safari polyfill so background images work as expected. */\n",
       "        background-size: auto;\n",
       "    }\n",
       "    .progress-bar-interrupted, .progress-bar-interrupted::-webkit-progress-bar {\n",
       "        background: #F44336;\n",
       "    }\n",
       "</style>\n"
      ],
      "text/plain": [
       "<IPython.core.display.HTML object>"
      ]
     },
     "metadata": {},
     "output_type": "display_data"
    },
    {
     "data": {
      "text/html": [
       "<table border=\"1\" class=\"dataframe\">\n",
       "  <thead>\n",
       "    <tr style=\"text-align: left;\">\n",
       "      <th>epoch</th>\n",
       "      <th>train_loss</th>\n",
       "      <th>valid_loss</th>\n",
       "      <th>accuracy</th>\n",
       "      <th>time</th>\n",
       "    </tr>\n",
       "  </thead>\n",
       "  <tbody>\n",
       "    <tr>\n",
       "      <td>0</td>\n",
       "      <td>1.608027</td>\n",
       "      <td>2.034141</td>\n",
       "      <td>0.408140</td>\n",
       "      <td>03:22</td>\n",
       "    </tr>\n",
       "    <tr>\n",
       "      <td>1</td>\n",
       "      <td>1.213673</td>\n",
       "      <td>1.150071</td>\n",
       "      <td>0.638163</td>\n",
       "      <td>03:20</td>\n",
       "    </tr>\n",
       "    <tr>\n",
       "      <td>2</td>\n",
       "      <td>0.938707</td>\n",
       "      <td>1.272448</td>\n",
       "      <td>0.616131</td>\n",
       "      <td>03:19</td>\n",
       "    </tr>\n",
       "    <tr>\n",
       "      <td>3</td>\n",
       "      <td>0.732879</td>\n",
       "      <td>0.652468</td>\n",
       "      <td>0.795743</td>\n",
       "      <td>03:19</td>\n",
       "    </tr>\n",
       "    <tr>\n",
       "      <td>4</td>\n",
       "      <td>0.621922</td>\n",
       "      <td>0.578882</td>\n",
       "      <td>0.818895</td>\n",
       "      <td>03:18</td>\n",
       "    </tr>\n",
       "  </tbody>\n",
       "</table>"
      ],
      "text/plain": [
       "<IPython.core.display.HTML object>"
      ]
     },
     "metadata": {},
     "output_type": "display_data"
    }
   ],
   "source": [
    "model = xresnet50()\n",
    "learn = Learner(dls, model, loss_func=CrossEntropyLossFlat(), metrics=accuracy)\n",
    "learn.fit_one_cycle(5, 3e-3)"
   ]
  },
  {
   "cell_type": "markdown",
   "id": "24209bd0",
   "metadata": {},
   "source": [
    "## Does progressive resizing improve training time or/and accuracy?"
   ]
  },
  {
   "cell_type": "code",
   "execution_count": 3,
   "id": "e5151a14",
   "metadata": {},
   "outputs": [
    {
     "name": "stdout",
     "output_type": "stream",
     "text": [
      "Due to IPython and Windows limitation, python multiprocessing isn't available now.\n",
      "So `number_workers` is changed to 0 to avoid getting stuck\n",
      "Due to IPython and Windows limitation, python multiprocessing isn't available now.\n",
      "So `number_workers` is changed to 0 to avoid getting stuck\n"
     ]
    }
   ],
   "source": [
    "# smaller images\n",
    "dblock_small = DataBlock(blocks=(ImageBlock(), CategoryBlock()),\n",
    "                        get_items=get_image_files,\n",
    "                        get_y=parent_label,\n",
    "                        item_tfms=Resize(460),\n",
    "                        batch_tfms=[*aug_transforms(size=128, min_scale=0.75),\n",
    "                                   Normalize.from_stats(*imagenet_stats)])   # fastai has predefined stats for ImageNet\n",
    "dls_small = dblock_small.dataloaders(dataset, bs=32)\n",
    "\n",
    "# regularly sized images\n",
    "dblock = DataBlock(blocks=(ImageBlock(), CategoryBlock()),\n",
    "                        get_items=get_image_files,\n",
    "                        get_y=parent_label,\n",
    "                        item_tfms=Resize(460),\n",
    "                        batch_tfms=[*aug_transforms(size=244, min_scale=0.75),\n",
    "                                   Normalize.from_stats(*imagenet_stats)])   # fastai has predefined stats for ImageNet\n",
    "dls = dblock.dataloaders(dataset, bs=32)"
   ]
  },
  {
   "cell_type": "markdown",
   "id": "52159832",
   "metadata": {},
   "source": [
    "## Train the model for 4 epochs with 128x128 images"
   ]
  },
  {
   "cell_type": "code",
   "execution_count": 5,
   "id": "c2f521a8",
   "metadata": {},
   "outputs": [
    {
     "data": {
      "text/html": [
       "\n",
       "<style>\n",
       "    /* Turns off some styling */\n",
       "    progress {\n",
       "        /* gets rid of default border in Firefox and Opera. */\n",
       "        border: none;\n",
       "        /* Needs to be in here for Safari polyfill so background images work as expected. */\n",
       "        background-size: auto;\n",
       "    }\n",
       "    .progress-bar-interrupted, .progress-bar-interrupted::-webkit-progress-bar {\n",
       "        background: #F44336;\n",
       "    }\n",
       "</style>\n"
      ],
      "text/plain": [
       "<IPython.core.display.HTML object>"
      ]
     },
     "metadata": {},
     "output_type": "display_data"
    },
    {
     "data": {
      "text/html": [
       "<table border=\"1\" class=\"dataframe\">\n",
       "  <thead>\n",
       "    <tr style=\"text-align: left;\">\n",
       "      <th>epoch</th>\n",
       "      <th>train_loss</th>\n",
       "      <th>valid_loss</th>\n",
       "      <th>accuracy</th>\n",
       "      <th>time</th>\n",
       "    </tr>\n",
       "  </thead>\n",
       "  <tbody>\n",
       "    <tr>\n",
       "      <td>0</td>\n",
       "      <td>1.600482</td>\n",
       "      <td>1.979397</td>\n",
       "      <td>0.482450</td>\n",
       "      <td>02:28</td>\n",
       "    </tr>\n",
       "    <tr>\n",
       "      <td>1</td>\n",
       "      <td>1.167944</td>\n",
       "      <td>1.295597</td>\n",
       "      <td>0.608290</td>\n",
       "      <td>02:27</td>\n",
       "    </tr>\n",
       "    <tr>\n",
       "      <td>2</td>\n",
       "      <td>0.837772</td>\n",
       "      <td>0.750104</td>\n",
       "      <td>0.765123</td>\n",
       "      <td>02:24</td>\n",
       "    </tr>\n",
       "    <tr>\n",
       "      <td>3</td>\n",
       "      <td>0.650627</td>\n",
       "      <td>0.595431</td>\n",
       "      <td>0.810680</td>\n",
       "      <td>02:25</td>\n",
       "    </tr>\n",
       "  </tbody>\n",
       "</table>"
      ],
      "text/plain": [
       "<IPython.core.display.HTML object>"
      ]
     },
     "metadata": {},
     "output_type": "display_data"
    }
   ],
   "source": [
    "model = xresnet50()\n",
    "learn = Learner(dls_small, model, loss_func=CrossEntropyLossFlat(), metrics=accuracy)\n",
    "learn.fit_one_cycle(4, 3e-3)"
   ]
  },
  {
   "cell_type": "markdown",
   "id": "89854847",
   "metadata": {},
   "source": [
    "## Fine tune it with 244x244 images"
   ]
  },
  {
   "cell_type": "code",
   "execution_count": 6,
   "id": "ce8a839e",
   "metadata": {},
   "outputs": [
    {
     "data": {
      "text/html": [
       "\n",
       "<style>\n",
       "    /* Turns off some styling */\n",
       "    progress {\n",
       "        /* gets rid of default border in Firefox and Opera. */\n",
       "        border: none;\n",
       "        /* Needs to be in here for Safari polyfill so background images work as expected. */\n",
       "        background-size: auto;\n",
       "    }\n",
       "    .progress-bar-interrupted, .progress-bar-interrupted::-webkit-progress-bar {\n",
       "        background: #F44336;\n",
       "    }\n",
       "</style>\n"
      ],
      "text/plain": [
       "<IPython.core.display.HTML object>"
      ]
     },
     "metadata": {},
     "output_type": "display_data"
    },
    {
     "data": {
      "text/html": [
       "<table border=\"1\" class=\"dataframe\">\n",
       "  <thead>\n",
       "    <tr style=\"text-align: left;\">\n",
       "      <th>epoch</th>\n",
       "      <th>train_loss</th>\n",
       "      <th>valid_loss</th>\n",
       "      <th>accuracy</th>\n",
       "      <th>time</th>\n",
       "    </tr>\n",
       "  </thead>\n",
       "  <tbody>\n",
       "    <tr>\n",
       "      <td>0</td>\n",
       "      <td>0.763961</td>\n",
       "      <td>0.815504</td>\n",
       "      <td>0.750560</td>\n",
       "      <td>03:15</td>\n",
       "    </tr>\n",
       "  </tbody>\n",
       "</table>"
      ],
      "text/plain": [
       "<IPython.core.display.HTML object>"
      ]
     },
     "metadata": {},
     "output_type": "display_data"
    },
    {
     "data": {
      "text/html": [
       "\n",
       "<style>\n",
       "    /* Turns off some styling */\n",
       "    progress {\n",
       "        /* gets rid of default border in Firefox and Opera. */\n",
       "        border: none;\n",
       "        /* Needs to be in here for Safari polyfill so background images work as expected. */\n",
       "        background-size: auto;\n",
       "    }\n",
       "    .progress-bar-interrupted, .progress-bar-interrupted::-webkit-progress-bar {\n",
       "        background: #F44336;\n",
       "    }\n",
       "</style>\n"
      ],
      "text/plain": [
       "<IPython.core.display.HTML object>"
      ]
     },
     "metadata": {},
     "output_type": "display_data"
    },
    {
     "data": {
      "text/html": [
       "<table border=\"1\" class=\"dataframe\">\n",
       "  <thead>\n",
       "    <tr style=\"text-align: left;\">\n",
       "      <th>epoch</th>\n",
       "      <th>train_loss</th>\n",
       "      <th>valid_loss</th>\n",
       "      <th>accuracy</th>\n",
       "      <th>time</th>\n",
       "    </tr>\n",
       "  </thead>\n",
       "  <tbody>\n",
       "    <tr>\n",
       "      <td>0</td>\n",
       "      <td>0.611027</td>\n",
       "      <td>0.526435</td>\n",
       "      <td>0.836819</td>\n",
       "      <td>03:27</td>\n",
       "    </tr>\n",
       "    <tr>\n",
       "      <td>1</td>\n",
       "      <td>0.582712</td>\n",
       "      <td>0.614127</td>\n",
       "      <td>0.814040</td>\n",
       "      <td>03:22</td>\n",
       "    </tr>\n",
       "    <tr>\n",
       "      <td>2</td>\n",
       "      <td>0.520653</td>\n",
       "      <td>0.516086</td>\n",
       "      <td>0.843167</td>\n",
       "      <td>03:17</td>\n",
       "    </tr>\n",
       "    <tr>\n",
       "      <td>3</td>\n",
       "      <td>0.494449</td>\n",
       "      <td>0.416041</td>\n",
       "      <td>0.874907</td>\n",
       "      <td>03:22</td>\n",
       "    </tr>\n",
       "    <tr>\n",
       "      <td>4</td>\n",
       "      <td>0.419290</td>\n",
       "      <td>0.406381</td>\n",
       "      <td>0.880881</td>\n",
       "      <td>03:21</td>\n",
       "    </tr>\n",
       "  </tbody>\n",
       "</table>"
      ],
      "text/plain": [
       "<IPython.core.display.HTML object>"
      ]
     },
     "metadata": {},
     "output_type": "display_data"
    }
   ],
   "source": [
    "learn.dls = dls\n",
    "learn.fine_tune(5, 1e-3)"
   ]
  },
  {
   "cell_type": "code",
   "execution_count": null,
   "id": "1ef566ce",
   "metadata": {},
   "outputs": [],
   "source": []
  }
 ],
 "metadata": {
  "kernelspec": {
   "display_name": "Python 3 (ipykernel)",
   "language": "python",
   "name": "python3"
  },
  "language_info": {
   "codemirror_mode": {
    "name": "ipython",
    "version": 3
   },
   "file_extension": ".py",
   "mimetype": "text/x-python",
   "name": "python",
   "nbconvert_exporter": "python",
   "pygments_lexer": "ipython3",
   "version": "3.8.13"
  }
 },
 "nbformat": 4,
 "nbformat_minor": 5
}
